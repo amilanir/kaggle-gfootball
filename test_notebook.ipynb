{
 "cells": [
  {
   "cell_type": "code",
   "execution_count": 1,
   "metadata": {},
   "outputs": [],
   "source": [
    "import gym\n",
    "import collections\n",
    "import numpy as np\n",
    "import torch"
   ]
  },
  {
   "cell_type": "code",
   "execution_count": 2,
   "metadata": {},
   "outputs": [],
   "source": [
    "%load_ext autoreload\n",
    "%autoreload 1\n",
    "%aimport double_dqn_agent\n",
    "from double_dqn_agent import DQNAgent"
   ]
  },
  {
   "cell_type": "code",
   "execution_count": 3,
   "metadata": {},
   "outputs": [],
   "source": [
    "import gfootball"
   ]
  },
  {
   "cell_type": "code",
   "execution_count": 4,
   "metadata": {},
   "outputs": [],
   "source": [
    "env = gym.make(\"GFootball-11_vs_11_kaggle-simple115v2-v0\")"
   ]
  },
  {
   "cell_type": "code",
   "execution_count": 5,
   "metadata": {},
   "outputs": [
    {
     "name": "stdout",
     "output_type": "stream",
     "text": [
      "(115,) 19\n"
     ]
    }
   ],
   "source": [
    "observation_shape = env.observation_space.shape\n",
    "n_actions = env.action_space.n\n",
    "print(observation_shape,n_actions)"
   ]
  },
  {
   "cell_type": "code",
   "execution_count": 6,
   "metadata": {},
   "outputs": [
    {
     "data": {
      "text/plain": [
       "115"
      ]
     },
     "execution_count": 6,
     "metadata": {},
     "output_type": "execute_result"
    }
   ],
   "source": [
    "input_size = observation_shape[0]\n",
    "input_size"
   ]
  },
  {
   "cell_type": "code",
   "execution_count": 7,
   "metadata": {},
   "outputs": [],
   "source": [
    "agent = DQNAgent(input_size,n_actions,seed=42)"
   ]
  },
  {
   "cell_type": "code",
   "execution_count": 8,
   "metadata": {},
   "outputs": [],
   "source": [
    "from collections import deque"
   ]
  },
  {
   "cell_type": "code",
   "execution_count": 9,
   "metadata": {},
   "outputs": [],
   "source": [
    "def dqn(agent=agent,n_episodes=500, n_steps=1000, eps_start=1.0, eps_end=0.01, eps_decay=0.995):\n",
    "    \"\"\"Deep Q-Learning.\n",
    "    \n",
    "    Params\n",
    "    ======\n",
    "        n_episodes (int): maximum number of training episodes\n",
    "        eps_start (float): starting value of epsilon, for epsilon-greedy action selection\n",
    "        eps_end (float): minimum value of epsilon\n",
    "        eps_decay (float): multiplicative factor (per episode) for decreasing epsilon\n",
    "        brain_name (str): brain name obtained from the unity environment\n",
    "    \"\"\"\n",
    "    scores = []                        # list containing scores from each episode\n",
    "    scores_window = deque(maxlen=100)  # last 100 scores\n",
    "    eps = eps_start                    # initialize epsilon\n",
    "\n",
    "    episode_rewards= []\n",
    "    episode_actions = []\n",
    "    \n",
    "    for ep in range(1, n_episodes+1):\n",
    "\n",
    "        obs = env.reset()\n",
    "        score = 0   \n",
    "        for t in range(n_steps):\n",
    "            action = agent.act(obs, eps).astype(np.int32) # use the agent to select an action\n",
    "            obs, rew, done, info = env.step(action) \n",
    "            score += rew\n",
    "            if done:\n",
    "                break \n",
    "        scores_window.append(score)       # save most recent score\n",
    "        scores.append(score)              # save most recent score\n",
    "        eps = max(eps_end, eps_decay*eps) # decrease epsilon\n",
    "\n",
    "        print('\\rEpisode {}\\tAverage Score: {:.2f}'.format(ep, np.mean(scores_window)), end=\"\")\n",
    "        if ep % 100 == 0:\n",
    "            print('\\rEpisode {}\\tAverage Score: {:.2f}'.format(ep, np.mean(scores_window)))\n",
    "    \n",
    "    print('Training Finished. Saving Model Weights...')\n",
    "    torch.save(agent.local_net.state_dict(),'double-dqn-test.pth')\n",
    "    return scores"
   ]
  },
  {
   "cell_type": "code",
   "execution_count": 10,
   "metadata": {
    "scrolled": false
   },
   "outputs": [
    {
     "name": "stdout",
     "output_type": "stream",
     "text": [
      "Episode 100\tAverage Score: -0.92\n",
      "Episode 200\tAverage Score: -1.01\n",
      "Episode 300\tAverage Score: -0.71\n",
      "Episode 400\tAverage Score: -0.83\n",
      "Episode 500\tAverage Score: -0.92\n",
      "Training Finished. Saving Model Weights...\n"
     ]
    }
   ],
   "source": [
    "scores = dqn(agent=agent)"
   ]
  },
  {
   "cell_type": "code",
   "execution_count": 11,
   "metadata": {},
   "outputs": [],
   "source": [
    "import matplotlib.pyplot as plt"
   ]
  },
  {
   "cell_type": "code",
   "execution_count": 12,
   "metadata": {},
   "outputs": [
    {
     "data": {
      "image/png": "[encoded data removed]",
      "text/plain": [
       "<Figure size 432x288 with 1 Axes>"
      ]
     },
     "metadata": {
      "needs_background": "light"
     },
     "output_type": "display_data"
    }
   ],
   "source": [
    "fig = plt.figure()\n",
    "ax = fig.add_subplot(111)\n",
    "plt.plot(np.arange(len(scores)), scores)\n",
    "plt.ylabel('Score')\n",
    "plt.xlabel('Episode #')\n",
    "plt.show()"
   ]
  },
  {
   "cell_type": "code",
   "execution_count": 13,
   "metadata": {},
   "outputs": [],
   "source": [
    "from kaggle_environments.envs.football.helpers import *"
   ]
  },
  {
   "cell_type": "code",
   "execution_count": 14,
   "metadata": {},
   "outputs": [],
   "source": [
    "agent = DQNAgent(state_size=115,action_size=19,seed=0)"
   ]
  },
  {
   "cell_type": "code",
   "execution_count": 15,
   "metadata": {},
   "outputs": [
    {
     "data": {
      "text/plain": [
       "<All keys matched successfully>"
      ]
     },
     "execution_count": 15,
     "metadata": {},
     "output_type": "execute_result"
    }
   ],
   "source": [
    "agent.local_net.load_state_dict(torch.load('double-dqn-test.pth'))"
   ]
  },
  {
   "cell_type": "code",
   "execution_count": 16,
   "metadata": {},
   "outputs": [],
   "source": [
    "from kaggle_environments import make"
   ]
  },
  {
   "cell_type": "code",
   "execution_count": 31,
   "metadata": {},
   "outputs": [
    {
     "data": {
      "text/html": [
       "\n",
       "<video width=800 controls>\n",
       "  <source src=\"data:video/webm;base64,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\" type=\"video/webm\">\n",
       "</video>\n"
      ],
      "text/plain": [
       "<IPython.core.display.HTML object>"
      ]
     },
     "metadata": {},
     "output_type": "display_data"
    }
   ],
   "source": [
    "from kaggle_environments import make\n",
    "env = make(\"football\", configuration={\"save_video\": True, \"scenario_name\": \"11_vs_11_easy_stochastic\", \"running_in_notebook\": True})\n",
    "env.run([\"./main.py\", \"do_nothing\"])\n",
    "env.render(mode=\"human\", width=800, height=600)"
   ]
  },
  {
   "cell_type": "code",
   "execution_count": null,
   "metadata": {},
   "outputs": [],
   "source": []
  }
 ],
 "metadata": {
  "kernelspec": {
   "display_name": "Python 3",
   "language": "python",
   "name": "python3"
  },
  "language_info": {
   "codemirror_mode": {
    "name": "ipython",
    "version": 3
   },
   "file_extension": ".py",
   "mimetype": "text/x-python",
   "name": "python",
   "nbconvert_exporter": "python",
   "pygments_lexer": "ipython3",
   "version": "3.7.9"
  }
 },
 "nbformat": 4,
 "nbformat_minor": 4
}
